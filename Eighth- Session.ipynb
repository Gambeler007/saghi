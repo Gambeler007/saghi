{
 "cells": [
  {
   "cell_type": "markdown",
   "metadata": {},
   "source": [
    "### Functions\n"
   ]
  },
  {
   "cell_type": "markdown",
   "metadata": {},
   "source": [
    "#### Defining a Function"
   ]
  },
  {
   "cell_type": "code",
   "execution_count": 1,
   "metadata": {},
   "outputs": [],
   "source": [
    "def greet_user():  \n",
    "    \n",
    "    name=input('Enter your name:')\n",
    "    \n",
    "    print(name)\n"
   ]
  },
  {
   "cell_type": "code",
   "execution_count": 2,
   "metadata": {},
   "outputs": [
    {
     "name": "stdout",
     "output_type": "stream",
     "text": [
      "Enter your name:Reza\n"
     ]
    }
   ],
   "source": [
    "name=input('Enter your name:')"
   ]
  },
  {
   "cell_type": "code",
   "execution_count": 3,
   "metadata": {},
   "outputs": [
    {
     "name": "stdout",
     "output_type": "stream",
     "text": [
      "Reza\n"
     ]
    }
   ],
   "source": [
    "greet_user(name)"
   ]
  },
  {
   "cell_type": "markdown",
   "metadata": {},
   "source": [
    "### Passing Information to a Function"
   ]
  },
  {
   "cell_type": "code",
   "execution_count": null,
   "metadata": {},
   "outputs": [],
   "source": [
    "def greet_user(username):\n",
    "    \n",
    "\n",
    "    print(f\"Hello, {username.title()}!\")\n"
   ]
  },
  {
   "cell_type": "code",
   "execution_count": null,
   "metadata": {},
   "outputs": [],
   "source": [
    "greet_user('Reza') "
   ]
  },
  {
   "cell_type": "markdown",
   "metadata": {},
   "source": [
    "### Arguments and Parameters"
   ]
  },
  {
   "cell_type": "code",
   "execution_count": null,
   "metadata": {},
   "outputs": [],
   "source": [
    "#Mehdi was a Arguments and username was a Parameters"
   ]
  },
  {
   "cell_type": "code",
   "execution_count": null,
   "metadata": {},
   "outputs": [],
   "source": [
    "Quiz 1: Write a function called display_message() that prints one sentence\n",
    "telling everyone what you are learning about in this chapter. Call the\n",
    "function, and make sure the message displays correctly.\n",
    "\n",
    "Quiz 2:Write a function called favorite_book() that accepts one\n",
    "parameter, \"title\". The function should print a message, such as One of my\n",
    "favorite books is Mehdi in Wonderland. "
   ]
  },
  {
   "cell_type": "markdown",
   "metadata": {},
   "source": [
    "#### Passing Arguments:\n",
    "Because a function definition can have multiple parameters, a function call\n",
    "may need multiple arguments. You can pass arguments to your functions\n",
    "in a number of ways. "
   ]
  },
  {
   "cell_type": "markdown",
   "metadata": {},
   "source": [
    "#### Positional Arguments"
   ]
  },
  {
   "cell_type": "code",
   "execution_count": null,
   "metadata": {},
   "outputs": [],
   "source": [
    "#Quiz 3: Write a program that display the company of your desire car and the name"
   ]
  },
  {
   "cell_type": "code",
   "execution_count": null,
   "metadata": {},
   "outputs": [],
   "source": []
  },
  {
   "cell_type": "code",
   "execution_count": null,
   "metadata": {},
   "outputs": [],
   "source": [
    "def describe_car(company_name, car_name):\n",
    "    print(f\"\\nI have a car produced by {company_name} .\")\n",
    "    print(f\"My {company_name}'s name is {car_name.title()}.\")\n"
   ]
  },
  {
   "cell_type": "code",
   "execution_count": null,
   "metadata": {},
   "outputs": [],
   "source": [
    "describe_car('IRANkhodro', '208')"
   ]
  },
  {
   "cell_type": "markdown",
   "metadata": {},
   "source": [
    "### Multiple Function Calls"
   ]
  },
  {
   "cell_type": "code",
   "execution_count": 4,
   "metadata": {},
   "outputs": [],
   "source": [
    "#You can call a function as many times as needed.\n",
    "def describe_pet(animal_type, pet_name):\n",
    "\n",
    "    print(f\"\\nI have a {animal_type}.\")\n",
    "    print(f\"My {animal_type}'s name is {pet_name.title()}.\")\n"
   ]
  },
  {
   "cell_type": "code",
   "execution_count": 5,
   "metadata": {},
   "outputs": [
    {
     "name": "stdout",
     "output_type": "stream",
     "text": [
      "\n",
      "I have a cat.\n",
      "My cat's name is A.\n",
      "\n",
      "I have a dog.\n",
      "My dog's name is B.\n"
     ]
    }
   ],
   "source": [
    "describe_pet('cat', 'A')\n",
    "describe_pet('dog', 'B')"
   ]
  },
  {
   "cell_type": "markdown",
   "metadata": {},
   "source": [
    "### Keyword Arguments\n",
    "A keyword argument is a name-value pair that you pass to a function"
   ]
  },
  {
   "cell_type": "code",
   "execution_count": 6,
   "metadata": {},
   "outputs": [
    {
     "name": "stdout",
     "output_type": "stream",
     "text": [
      "\n",
      "I have a hamster.\n",
      "My hamster's name is Harry.\n"
     ]
    }
   ],
   "source": [
    "describe_pet(animal_type='hamster', pet_name='harry')"
   ]
  },
  {
   "cell_type": "code",
   "execution_count": 7,
   "metadata": {},
   "outputs": [
    {
     "name": "stdout",
     "output_type": "stream",
     "text": [
      "\n",
      "I have a hamster.\n",
      "My hamster's name is Harry.\n",
      "\n",
      "I have a hamster.\n",
      "My hamster's name is Harry.\n"
     ]
    }
   ],
   "source": [
    "describe_pet(animal_type='hamster', pet_name='harry')\n",
    "describe_pet(pet_name='harry', animal_type='hamster')"
   ]
  },
  {
   "cell_type": "code",
   "execution_count": 9,
   "metadata": {},
   "outputs": [
    {
     "ename": "TypeError",
     "evalue": "describe_pet() missing 2 required positional arguments: 'animal_type' and 'pet_name'",
     "output_type": "error",
     "traceback": [
      "\u001b[1;31m---------------------------------------------------------------------------\u001b[0m",
      "\u001b[1;31mTypeError\u001b[0m                                 Traceback (most recent call last)",
      "\u001b[1;32m<ipython-input-9-97147be2f066>\u001b[0m in \u001b[0;36m<module>\u001b[1;34m\u001b[0m\n\u001b[1;32m----> 1\u001b[1;33m \u001b[0mdescribe_pet\u001b[0m\u001b[1;33m(\u001b[0m\u001b[1;33m)\u001b[0m\u001b[1;33m\u001b[0m\u001b[1;33m\u001b[0m\u001b[0m\n\u001b[0m\u001b[0;32m      2\u001b[0m \u001b[0mdescribe_pet\u001b[0m\u001b[1;33m(\u001b[0m\u001b[0mpet_name\u001b[0m\u001b[1;33m=\u001b[0m\u001b[1;34m'willie'\u001b[0m\u001b[1;33m)\u001b[0m\u001b[1;33m\u001b[0m\u001b[1;33m\u001b[0m\u001b[0m\n",
      "\u001b[1;31mTypeError\u001b[0m: describe_pet() missing 2 required positional arguments: 'animal_type' and 'pet_name'"
     ]
    }
   ],
   "source": [
    "describe_pet('willie')\n",
    "describe_pet(pet_name='willie')"
   ]
  },
  {
   "cell_type": "code",
   "execution_count": 15,
   "metadata": {},
   "outputs": [],
   "source": [
    "def describe_pet(pet_name, animal_type ='dog'):\n",
    "\n",
    "    print(f\"\\nI have a {animal_type}.\")\n",
    "    print(f\"My {animal_type}'s name is {pet_name.title()}.\")"
   ]
  },
  {
   "cell_type": "code",
   "execution_count": 12,
   "metadata": {},
   "outputs": [
    {
     "name": "stdout",
     "output_type": "stream",
     "text": [
      "\n",
      "I have a dog.\n",
      "My dog's name is Willie.\n",
      "\n",
      "I have a dog.\n",
      "My dog's name is Willie.\n"
     ]
    }
   ],
   "source": [
    "describe_pet('willie')\n",
    "describe_pet(pet_name='willie')"
   ]
  },
  {
   "cell_type": "markdown",
   "metadata": {},
   "source": [
    " \n"
   ]
  },
  {
   "cell_type": "code",
   "execution_count": null,
   "metadata": {},
   "outputs": [],
   "source": [
    "#Quiz 5: Write a function called describe_city() that accepts the name of\n",
    "a city and its country. The function should print a simple sentence, such as\n",
    "Isfahan is in Iran. Give the parameter for the country a default value."
   ]
  },
  {
   "cell_type": "code",
   "execution_count": null,
   "metadata": {},
   "outputs": [],
   "source": [
    "# Quiz 6: Write a function called make_shirt() that accepts a size and the\n",
    "text of a message that should be printed on the shirt. The function should print\n",
    "a sentence summarizing the size of the shirt and the message printed on it."
   ]
  },
  {
   "cell_type": "markdown",
   "metadata": {},
   "source": [
    "### Return Values"
   ]
  },
  {
   "cell_type": "markdown",
   "metadata": {},
   "source": [
    "#### Returning a Simple Value"
   ]
  },
  {
   "cell_type": "code",
   "execution_count": null,
   "metadata": {},
   "outputs": [],
   "source": [
    "def get_formatted_name(first_name, last_name):\n",
    "\n",
    "    full_name = f\"{first_name} {last_name}\"\n",
    "    return full_name.title()\n"
   ]
  },
  {
   "cell_type": "code",
   "execution_count": null,
   "metadata": {},
   "outputs": [],
   "source": [
    "musician = get_formatted_name('Mehdi', 'Joodaki')\n",
    "print(musician)"
   ]
  },
  {
   "cell_type": "code",
   "execution_count": null,
   "metadata": {},
   "outputs": [],
   "source": [
    "# Quiz : Square and Triangle"
   ]
  },
  {
   "cell_type": "markdown",
   "metadata": {},
   "source": [
    "### Making an Argument Optional"
   ]
  },
  {
   "cell_type": "code",
   "execution_count": null,
   "metadata": {},
   "outputs": [],
   "source": [
    "def get_formatted_name(first_name, last_name, middle_name=''):\n",
    "\n",
    "    if middle_name:\n",
    "        full_name = f\"{first_name} {middle_name} {last_name}\"\n",
    "    else:\n",
    "        full_name = f\"{first_name} {last_name}\"\n",
    "    return full_name.title()\n",
    "    "
   ]
  },
  {
   "cell_type": "code",
   "execution_count": null,
   "metadata": {},
   "outputs": [],
   "source": [
    "musician = get_formatted_name('Mehdi', 'Joodaki')\n",
    "print(musician)\n",
    "musician = get_formatted_name('Ali', 'Joodaki', 'Reza')\n",
    "print(musician)"
   ]
  },
  {
   "cell_type": "markdown",
   "metadata": {},
   "source": [
    "### Returning a Dictionary"
   ]
  },
  {
   "cell_type": "code",
   "execution_count": null,
   "metadata": {},
   "outputs": [],
   "source": []
  }
 ],
 "metadata": {
  "kernelspec": {
   "display_name": "Python 3",
   "language": "python",
   "name": "python3"
  },
  "language_info": {
   "codemirror_mode": {
    "name": "ipython",
    "version": 3
   },
   "file_extension": ".py",
   "mimetype": "text/x-python",
   "name": "python",
   "nbconvert_exporter": "python",
   "pygments_lexer": "ipython3",
   "version": "3.7.4"
  }
 },
 "nbformat": 4,
 "nbformat_minor": 2
}
